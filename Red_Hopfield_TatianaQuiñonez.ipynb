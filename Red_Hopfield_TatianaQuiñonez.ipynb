{
  "nbformat": 4,
  "nbformat_minor": 0,
  "metadata": {
    "colab": {
      "name": "Red_Hopfield-TatianaQuiñonez.ipynb",
      "provenance": [],
      "collapsed_sections": [],
      "include_colab_link": true
    },
    "kernelspec": {
      "name": "python3",
      "display_name": "Python 3"
    }
  },
  "cells": [
    {
      "cell_type": "markdown",
      "metadata": {
        "id": "view-in-github",
        "colab_type": "text"
      },
      "source": [
        "<a href=\"https://colab.research.google.com/github/tati088/InteligenciaArtificialTati-/blob/main/Red_Hopfield_TatianaQui%C3%B1onez.ipynb\" target=\"_parent\"><img src=\"https://colab.research.google.com/assets/colab-badge.svg\" alt=\"Open In Colab\"/></a>"
      ]
    },
    {
      "cell_type": "markdown",
      "metadata": {
        "id": "9BMpI38KTAON"
      },
      "source": [
        "# Redes de Hopfield\n",
        "# Realizar ejercicios del cuaderno anterior\n",
        "# *Tatiana Quiñonez Ortiz\n",
        "\n"
      ]
    },
    {
      "cell_type": "code",
      "metadata": {
        "colab": {
          "base_uri": "https://localhost:8080/"
        },
        "id": "gCtDtb4eTIXC",
        "outputId": "3a1b815d-ed24-4803-f3a3-e9d8a1fb0143"
      },
      "source": [
        "import numpy as np \n",
        "a=np.matrix([[0,2,2,-2],[2,0,2,-2],[2,2,0,-2],[-2,2,2,0]])\n",
        "a"
      ],
      "execution_count": null,
      "outputs": [
        {
          "output_type": "execute_result",
          "data": {
            "text/plain": [
              "matrix([[ 0,  2,  2, -2],\n",
              "        [ 2,  0,  2, -2],\n",
              "        [ 2,  2,  0, -2],\n",
              "        [-2,  2,  2,  0]])"
            ]
          },
          "metadata": {},
          "execution_count": 2
        }
      ]
    },
    {
      "cell_type": "code",
      "metadata": {
        "colab": {
          "base_uri": "https://localhost:8080/"
        },
        "id": "mha5wrJUS8CN",
        "outputId": "a9e70dad-94c2-4a59-8673-95868c3deeec"
      },
      "source": [
        "b=np.matrix([1,1,1,-1])\n",
        "b"
      ],
      "execution_count": null,
      "outputs": [
        {
          "output_type": "execute_result",
          "data": {
            "text/plain": [
              "matrix([[ 1,  1,  1, -1]])"
            ]
          },
          "metadata": {},
          "execution_count": 3
        }
      ]
    },
    {
      "cell_type": "code",
      "metadata": {
        "colab": {
          "base_uri": "https://localhost:8080/"
        },
        "id": "xE1lJXt3WyH-",
        "outputId": "e5a93194-3541-4e37-898d-c9c95b98c60b"
      },
      "source": [
        "c=np.dot(b,a)\n",
        "c"
      ],
      "execution_count": null,
      "outputs": [
        {
          "output_type": "execute_result",
          "data": {
            "text/plain": [
              "matrix([[ 6,  2,  2, -6]])"
            ]
          },
          "metadata": {},
          "execution_count": 4
        }
      ]
    },
    {
      "cell_type": "code",
      "metadata": {
        "colab": {
          "base_uri": "https://localhost:8080/"
        },
        "id": "fQTYVKBiXdbg",
        "outputId": "2f376a95-0953-451d-9527-072df95165ff"
      },
      "source": [
        "d=np.sign(c)\n",
        "d"
      ],
      "execution_count": null,
      "outputs": [
        {
          "output_type": "execute_result",
          "data": {
            "text/plain": [
              "matrix([[ 1,  1,  1, -1]])"
            ]
          },
          "metadata": {},
          "execution_count": 5
        }
      ]
    },
    {
      "cell_type": "markdown",
      "metadata": {
        "id": "NeXYuarrS_P8"
      },
      "source": [
        "## Entrenamiento"
      ]
    },
    {
      "cell_type": "markdown",
      "metadata": {
        "id": "6pHkAWYUYwB9"
      },
      "source": [
        "Se desea entrenar una Red de Hopfield bastante sencilla, que sea capaz de reconocer información (patrones) de imágenes formadas por cuatro pixeles, en una matriz de 2x2.\n",
        "\n",
        "\n",
        "![Imagen1.png](data:image/png;base64,iVBORw0KGgoAAAANSUhEUgAAAtAAAAB+CAMAAAA6ANYZAAAAAXNSR0IArs4c6QAAAARnQU1BAACxjwv8YQUAAABvUExURQAAAAAAAAAAAAAAAAAAAAAAAAAAAAAAAAAAAAAAAAAAAAAAAAAAAAAAAAAAAAAAAAAAAAAAAAAAAAAAAAAAAAAAAAAAAAAAAAAAAAAAAAAAAAAAAAAAAAAAAAAAAAAAAAAAAAAAAAAAAAAAAAAAAG3qvUYAAAAkdFJOUwAOHjhMVGdsen+Gi4yWmqSlqKqutby+wMLI09fe4/H2+vv8/aGXMVMAAAAJcEhZcwAAFxEAABcRAcom8z8AAAKsSURBVHhe7ddZblQxAEVBQwfC0EBowtiMwftfIwl4Cz4Sraqv+20d+fmNcXzxhO2OT9dgo+MY4zDhUpzHeDx/f2S3L/P7WuzzdX54CPrH/T3NXlfz81rs82y+FnRD0AVBZwRdEHRG0AVBZwRdEHRG0AVBZwRdEHRG0AVBZwRdEHRG0AVBZwRdEHRG0AVBZwRdEHRG0AVBZwRdEHRG0AVBZwRdEHRG0AVBZwRdEHRG0AVBZwRdEHRG0AVBZwRdEHRG0AVBZwRdEHRG0AVBZwRdEHRG0AVBZwRdEHRG0AVBZwRdEHRG0AVBZwRdEHRG0AVBZwRdEHRG0AVBZwRdEHRG0AVBZwRdEHRG0AVBZwRdEHRG0AVBZwRdEHRG0AVBZwRdEHRG0AVBZwRdEHRG0AVBZwRdEHRG0AVBZwRdEHRG0AVBZwRdEHRG0AVBZwRdEHRG0AVBZwRdEHRG0IUV9M/n7HYzv63FPu/nmzEOEy7F+eGG/vWK3W7XgbPXO2/oxtU6cPbyUxgRdEPQEUE3BB0RdEPQEUE3BB0RdEPQEUE3BB0RdEPQEUE3BB0RdEPQEUE3BB0RdEPQEUE3BB0RdEPQEUE3BB0RdEPQEUE3BB0RdEPQEUE3BB0RdEPQEUE3BB0RdEPQEUE3BB0RdEPQEUE3BB0RdEPQEUE3BB0RdEPQEUE3BB0RdEPQEUE3BB0RdEPQEUE3BB0RdEPQEUE3BB0RdEPQEUE3BB0RdEPQEUE3BB0RdEPQEUE3BB0RdEPQEUE3BB0RdEPQEUE3BB0RdEPQEUE3BB0RdEPQEUE3BB0RdEPQEUE3BB0RdEPQEUE3BB0RdEPQEUE3BB0RdEPQEUE3BB0RdONv0Hdv2e3TOnD2uh3jsCb8/873X8PTzTXbnV6uwUanR/9eeHAZxvgD8c/q3J01z70AAAAASUVORK5CYII=)\n",
        "![Imagen2.png](data:image/png;base64,iVBORw0KGgoAAAANSUhEUgAAAtAAAAB+CAMAAAA6ANYZAAAAAXNSR0IArs4c6QAAAARnQU1BAACxjwv8YQUAAABLUExURQAAAAAAAAAAAAAAAAAAAAAAAAAAAAAAAAAAAAAAAAAAAAAAAAAAAAAAAAAAAAAAAAAAAAAAAAAAAAAAAAAAAAAAAAAAAAAAAAAAAOZgOnQAAAAYdFJOUwBUWFlfYWdobHZ+hIyOkpadqKqz0Njg5QF54GkAAAAJcEhZcwAAFxEAABcRAcom8z8AAAI0SURBVHhe7dZZblVBEETBBjNjbGMm73+lWHC3kCm9VMRP13frqFTn3L97Q9z99RJ0d3/OeXiBFU/nfLxGuH2fz3l7jXD73guaJYJmiqCZImimCJopgmaKoJkiaKYImimCZoqgmSJopgiaKYJmiqCZImimCJopgmaKoJkiaKYImimCZoqgmSJopgiaKYJmiqCZImimCJopgmaKoJkiaKYImimCZoqgmSJopgiaKYJmiqCZImimCJopgmaKoJkiaKYImimCZoqgmSJopgiaKYJmiqCZImimCJopgmaKoJkiaKYImimCZspr0A/XCLfvyYZu+flI2m8nR8+3Q9oPQfcIOk/QRYLOE3SRoPMEXSToPEEXCTpP0EWCzhN0kaDzBF0k6DxBFwk6T9BFgs4TdJGg8wRdJOg8QRcJOk/QRYLOE3SRoPMEXSToPEEXCTpP0EWCzhN0kaDzBF0k6DxBFwk6T9BFgs4TdJGg8wRdJOg8QRcJOk/QRYLOE3SRoPMEXSToPEEXCTpP0EWCzhN0kaDzBF0k6DxBFwk6T9BFgs4TdJGg8wRdJOg8QRcJOk/QRYLOE3SRoPMEXSToPEEXCTpP0EWCzhN0kaDzBF0k6DxBFwk6T9BFgs4TdJGg8wRdJOg8QRcJOk/QRYLOE3SRoPMEXSToPEEXCTpP0EWCzhN0kaDzBF0k6DxBFwk671/Qd9eHk/XrO2l/Xj6c83B9ONy+p9c9/fz1E3HP10vQl+f/pweMOOcvVtnGUmYcWvEAAAAASUVORK5CYII=)"
      ]
    },
    {
      "cell_type": "code",
      "metadata": {
        "id": "6wmjA2olY5er"
      },
      "source": [
        "# Representar los patrones\n",
        "img1=np.matrix([1,1,1,-1])\n",
        "img2=np.matrix([-1,-1,-1,1])"
      ],
      "execution_count": null,
      "outputs": []
    },
    {
      "cell_type": "code",
      "metadata": {
        "id": "5GFjoUCnZV6f"
      },
      "source": [
        "# Multiplicar por la trampuesta\n",
        "\n",
        "a=np.dot(img1.T,img1)\n",
        "b=np.dot(img2.T,img2)\n",
        "\n"
      ],
      "execution_count": null,
      "outputs": []
    },
    {
      "cell_type": "code",
      "metadata": {
        "colab": {
          "base_uri": "https://localhost:8080/"
        },
        "id": "F9I2fBf_aKSH",
        "outputId": "fefb0b39-35ef-4e2e-e8bd-bc8984ae6960"
      },
      "source": [
        "# sumar y restar por 2*Matriz identidad=hacer 0 la diagonal principal\n",
        "hop=a+b-2*np.identity(4)\n",
        "hop"
      ],
      "execution_count": null,
      "outputs": [
        {
          "output_type": "execute_result",
          "data": {
            "text/plain": [
              "matrix([[ 0.,  2.,  2., -2.],\n",
              "        [ 2.,  0.,  2., -2.],\n",
              "        [ 2.,  2.,  0., -2.],\n",
              "        [-2., -2., -2.,  0.]])"
            ]
          },
          "metadata": {},
          "execution_count": 8
        }
      ]
    },
    {
      "cell_type": "markdown",
      "metadata": {
        "id": "fPS9HcvbuC-a"
      },
      "source": [
        "Se desea entrenar una Red de Hopfield bastante sencilla, que sea capaz de reconocer información (patrones) de imágenes formadas por cuatro pixeles, en una matriz de 2x2.\n",
        "\n",
        "![b.png](data:image/png;base64,iVBORw0KGgoAAAANSUhEUgAAAtAAAAB+CAMAAAA6ANYZAAAAAXNSR0IArs4c6QAAAARnQU1BAACxjwv8YQUAAABmUExURQAAAAAAAAAAAAAAAAAAAAAAAAAAAAAAAAAAAAAAAAAAAAAAAAAAAAAAAAAAAAAAAAAAAAAAAAAAAAAAAAAAAAAAAAAAAAAAAAAAAAAAAAAAAAAAAAAAAAAAAAAAAAAAAAAAAAAAAHBslNYAAAAhdFJOUwAOHjhMVGdsen+Gi4yWmqSlqKqutby+wMLI197j8fb7/IckXTAAAAAJcEhZcwAAFxEAABcRAcom8z8AAAKtSURBVHhe7dZJbhBBEEXBBjNjJjOb0fe/JDb0Ff6TsCJWuU49VeVxXL54zNzlk3Ng6PI4josbuC+uj+PhObL14zNr324+Cbry9fY3ZOvZzWtBVwS9J+iQoPcEHRL0nqBDgt4TdEjQe4IOCXpP0CFB7wk6JOg9QYcEvSfokKD3BB0S9J6gQ4LeE3RI0HuCDgl6T9AhQe8JOiToPUGHBL0n6JCg9wQdEvSeoEOC3hN0SNB7gg4Jek/QIUHvCTok6D1BhwS9J+iQoPcEHRL0nqBDgt4TdEjQe4IOCXpP0CFB7wk6JOg9QYcEvSfokKD3BB0S9J6gQ4LeE3RI0HuCDgl6T9AhQe8JOiToPUGHBL0n6JCg9wQdEvSeoEOC3hN0SNB7gg4Jek/QIUHvCTok6D1BhwS9J+iQoPcEHRL0nqBDgt4TdEjQe4IOCXpP0CFB7wk6JOg9QYcEvSfo0PfnrH28eXMcF+fC4f93ffdC/3rF2odz4Wy9vwv653mBsPPoXDhbf29oQe8JuiHoiKAbgo4IuiHoiKAbgo4IuiHoiKAbgo4IuiHoiKAbgo4IuiHoiKAbgo4IuiHoiKAbgo4IuiHoiKAbgo4IuiHoiKAbgo4IuiHoiKAbgo4IuiHoiKAbgo4IuiHoiKAbgo4IuiHoiKAbgo4IuiHoiKAbgo4IuiHoiKAbgo4IuiHoiKAbgo4IuiHoiKAbgo4IuiHoiKAbgo4IuiHoiKAbgo4IuiHoiKAbgo4IuiHoiKAbgo4IuiHoiKAbgo4IuiHoiKAbgo4IuiHoiKAbgo4IuiHoiKAbgo4IuiHoiKAbgo4IuiHoiKAbgo4IuiHoiKAbgo4IuiHoiKAbgo4IuvE36N/vWPtyLpytD8dxcY7w/7u+/Q2v3j5l7urlOTB09eDfhQf3w3H8ATZVZy7rq3YKAAAAAElFTkSuQmCC)![a.png](data:image/png;base64,iVBORw0KGgoAAAANSUhEUgAAAtAAAAB+CAMAAAA6ANYZAAAAAXNSR0IArs4c6QAAAARnQU1BAACxjwv8YQUAAAB4UExURQAAAAAAAAAAAAAAAAAAAAAAAAAAAAAAAAAAAAAAAAAAAAAAAAAAAAAAAAAAAAAAAAAAAAAAAAAAAAAAAAAAAAAAAAAAAAAAAAAAAAAAAAAAAAAAAAAAAAAAAAAAAAAAAAAAAAAAAAAAAAAAAAAAAAAAAAAAAAAAABXISIgAAAAndFJOUwAeJShTVW19f4CLl6Gio6anq7G0ucHCxNDW19vh7/D29/j5+vv8/YUc+BsAAAAJcEhZcwAAFxEAABcRAcom8z8AAAKzSURBVHhe7dfLTlVBEEDRIyIqCIJvVC6oaP//H9rE8wu9E2/WGlRqXNmD7u3FzRnLXbpy4ObNtm2HAcdiBv1tfL5mtZ/j/b6xzLvxewb9cZzOyVp342TfWObZuJ9T0AVBBwTdEXRA0B1BBwTdEXRA0B1BBwTdEXRA0B1BBwTdEXRA0B1BBwTdEXRA0B1BBwTdEXRA0B1BBwTdEXRA0B1BBwTdEXRA0B1BBwTdEXRA0B1BBwTdEXRA0B1BBwTdEXRA0B1BBwTdEXRA0B1BBwTdEXRA0B1BBwTdEXRA0B1BBwTdEXRA0B1BBwTdEXRA0B1BBwTdEXRA0B1BBwTdEXRA0B1BBwTdEXRA0B1BBwTdEXRA0B1BBwTdEXRA0B1BBwTdEXRA0B1BBwTdEXRA0B1BBwTdEXRA0B1BBwTdEXRA0B1BBwTdEXRA0B1BBwTdEXRA0B1BBwTdEXRA0B1BB/4F/XV8uGC1H+PtvrHM1XicQR8GHIsZ9Jdx/ZLVHvaDs9SvGbQ3dOFuvzhL+RRWBJ0QdEXQCUFXBJ0QdEXQCUFXBJ0QdEXQCUFXBJ0QdEXQCUFXBJ0QdEXQCUFXBJ0QdEXQCUFXBJ0QdEXQCUFXBJ0QdEXQCUFXBJ0QdEXQCUFXBJ0QdEXQCUFXBJ0QdEXQCUFXBJ0QdEXQCUFXBJ0QdEXQCUFXBJ0QdEXQCUFXBJ0QdEXQCUFXBJ0QdEXQCUFXBJ0QdEXQCUFXBJ0QdEXQCUFXBJ0QdEXQCUFXBJ0QdEXQCUFXBJ0QdEXQCUFXBJ0QdEXQCUFXBJ0QdEXQCUFXBJ0QdEXQCUFXBJ0QdEXQCUFXBJ0QdEXQCUFXBJ0QdEXQCUFXBJ0QdEXQCUFXBJ14Cvr7uP3Eao/7xVnqzwz6sO/w/5tBPz8/ZbnXrhw4f/X0vIOjsW1/AesO7mH1O8E7AAAAAElFTkSuQmCC)"
      ]
    },
    {
      "cell_type": "code",
      "metadata": {
        "id": "406dBp4et-RA",
        "colab": {
          "base_uri": "https://localhost:8080/"
        },
        "outputId": "96d0a775-a29f-4457-d56f-f36a7a525a88"
      },
      "source": [
        "# Representar los patrones\n",
        "\n",
        "img1=np.matrix([-1,1,1,-1])\n",
        "img2=np.matrix([1,1,1,-1])\n",
        "a=np.dot(img1.T,img1)\n",
        "b=np.dot(img2.T,img2)\n",
        "hop=a+b-2*np.identity(4)\n",
        "hop\n",
        "\n",
        "\n"
      ],
      "execution_count": null,
      "outputs": [
        {
          "output_type": "execute_result",
          "data": {
            "text/plain": [
              "matrix([[ 0.,  0.,  0.,  0.],\n",
              "        [ 0.,  0.,  2., -2.],\n",
              "        [ 0.,  2.,  0., -2.],\n",
              "        [ 0., -2., -2.,  0.]])"
            ]
          },
          "metadata": {},
          "execution_count": 9
        }
      ]
    },
    {
      "cell_type": "markdown",
      "metadata": {
        "id": "VzbrC-hiuS_h"
      },
      "source": [
        "Qué ocurre con el patrón siguiente(inferencia)![siguiente.png](data:image/png;base64,iVBORw0KGgoAAAANSUhEUgAAAtAAAAB+CAMAAAA6ANYZAAAAAXNSR0IArs4c6QAAAARnQU1BAACxjwv8YQUAAABLUExURQAAAAAAAAAAAAAAAAAAAAAAAAAAAAAAAAAAAAAAAAAAAAAAAAAAAAAAAAAAAAAAAAAAAAAAAAAAAAAAAAAAAAAAAAAAAAAAAAAAAOZgOnQAAAAYdFJOUwBUWFlfYWdobHZ+hIyOkpadqKqz0Njg5QF54GkAAAAJcEhZcwAAFxEAABcRAcom8z8AAAI0SURBVHhe7dZZblVBEETBBjNjbGMm73+lWHC3kCm9VMRP13frqFTn3L97Q9z99RJ0d3/OeXiBFU/nfLxGuH2fz3l7jXD73guaJYJmiqCZImimCJopgmaKoJkiaKYImimCZoqgmSJopgiaKYJmiqCZImimCJopgmaKoJkiaKYImimCZoqgmSJopgiaKYJmiqCZImimCJopgmaKoJkiaKYImimCZoqgmSJopgiaKYJmiqCZImimCJopgmaKoJkiaKYImimCZoqgmSJopgiaKYJmiqCZImimCJopgmaKoJkiaKYImimCZspr0A/XCLfvyYZu+flI2m8nR8+3Q9oPQfcIOk/QRYLOE3SRoPMEXSToPEEXCTpP0EWCzhN0kaDzBF0k6DxBFwk6T9BFgs4TdJGg8wRdJOg8QRcJOk/QRYLOE3SRoPMEXSToPEEXCTpP0EWCzhN0kaDzBF0k6DxBFwk6T9BFgs4TdJGg8wRdJOg8QRcJOk/QRYLOE3SRoPMEXSToPEEXCTpP0EWCzhN0kaDzBF0k6DxBFwk6T9BFgs4TdJGg8wRdJOg8QRcJOk/QRYLOE3SRoPMEXSToPEEXCTpP0EWCzhN0kaDzBF0k6DxBFwk6T9BFgs4TdJGg8wRdJOg8QRcJOk/QRYLOE3SRoPMEXSToPEEXCTpP0EWCzhN0kaDzBF0k6DxBFwk671/Qd9eHk/XrO2l/Xj6c83B9ONy+p9c9/fz1E3HP10vQl+f/pweMOOcvVtnGUmYcWvEAAAAASUVORK5CYII=)"
      ]
    },
    {
      "cell_type": "code",
      "metadata": {
        "id": "63OPDE2MuQOw",
        "colab": {
          "base_uri": "https://localhost:8080/"
        },
        "outputId": "b2a0c870-7d3b-4ee8-e4aa-462b92858401"
      },
      "source": [
        "img1=np.matrix([-1,-1,-1,1])\n",
        "c=np.dot(b,a)\n",
        "d=np.sign(c)\n",
        "d\n"
      ],
      "execution_count": null,
      "outputs": [
        {
          "output_type": "execute_result",
          "data": {
            "text/plain": [
              "matrix([[-1,  1,  1, -1],\n",
              "        [-1,  1,  1, -1],\n",
              "        [-1,  1,  1, -1],\n",
              "        [ 1, -1, -1,  1]])"
            ]
          },
          "metadata": {},
          "execution_count": 10
        }
      ]
    }
  ]
}