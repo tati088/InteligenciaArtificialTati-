{
  "nbformat": 4,
  "nbformat_minor": 0,
  "metadata": {
    "colab": {
      "name": "TatianaQuiñonez_ImagenSimilar",
      "provenance": [],
      "collapsed_sections": [],
      "include_colab_link": true
    },
    "kernelspec": {
      "name": "python3",
      "display_name": "Python 3"
    },
    "language_info": {
      "name": "python"
    }
  },
  "cells": [
    {
      "cell_type": "markdown",
      "metadata": {
        "id": "view-in-github",
        "colab_type": "text"
      },
      "source": [
        "<a href=\"https://colab.research.google.com/github/tati088/InteligenciaArtificialTati-/blob/main/TatianaQui%C3%B1onez_ImagenSimilar.ipynb\" target=\"_parent\"><img src=\"https://colab.research.google.com/assets/colab-badge.svg\" alt=\"Open In Colab\"/></a>"
      ]
    },
    {
      "cell_type": "code",
      "metadata": {
        "id": "sAFofQ44RPQw",
        "colab": {
          "base_uri": "https://localhost:8080/"
        },
        "outputId": "27e228da-b66d-48cf-de04-b1227b204e82"
      },
      "source": [
        "pip install imagehash"
      ],
      "execution_count": null,
      "outputs": [
        {
          "output_type": "stream",
          "name": "stdout",
          "text": [
            "Collecting imagehash\n",
            "  Downloading ImageHash-4.2.1.tar.gz (812 kB)\n",
            "\u001b[?25l\r\u001b[K     |▍                               | 10 kB 21.3 MB/s eta 0:00:01\r\u001b[K     |▉                               | 20 kB 25.4 MB/s eta 0:00:01\r\u001b[K     |█▏                              | 30 kB 13.0 MB/s eta 0:00:01\r\u001b[K     |█▋                              | 40 kB 9.9 MB/s eta 0:00:01\r\u001b[K     |██                              | 51 kB 5.4 MB/s eta 0:00:01\r\u001b[K     |██▍                             | 61 kB 5.9 MB/s eta 0:00:01\r\u001b[K     |██▉                             | 71 kB 5.6 MB/s eta 0:00:01\r\u001b[K     |███▎                            | 81 kB 6.3 MB/s eta 0:00:01\r\u001b[K     |███▋                            | 92 kB 4.8 MB/s eta 0:00:01\r\u001b[K     |████                            | 102 kB 5.2 MB/s eta 0:00:01\r\u001b[K     |████▍                           | 112 kB 5.2 MB/s eta 0:00:01\r\u001b[K     |████▉                           | 122 kB 5.2 MB/s eta 0:00:01\r\u001b[K     |█████▎                          | 133 kB 5.2 MB/s eta 0:00:01\r\u001b[K     |█████▋                          | 143 kB 5.2 MB/s eta 0:00:01\r\u001b[K     |██████                          | 153 kB 5.2 MB/s eta 0:00:01\r\u001b[K     |██████▌                         | 163 kB 5.2 MB/s eta 0:00:01\r\u001b[K     |██████▉                         | 174 kB 5.2 MB/s eta 0:00:01\r\u001b[K     |███████▎                        | 184 kB 5.2 MB/s eta 0:00:01\r\u001b[K     |███████▋                        | 194 kB 5.2 MB/s eta 0:00:01\r\u001b[K     |████████                        | 204 kB 5.2 MB/s eta 0:00:01\r\u001b[K     |████████▌                       | 215 kB 5.2 MB/s eta 0:00:01\r\u001b[K     |████████▉                       | 225 kB 5.2 MB/s eta 0:00:01\r\u001b[K     |█████████▎                      | 235 kB 5.2 MB/s eta 0:00:01\r\u001b[K     |█████████▊                      | 245 kB 5.2 MB/s eta 0:00:01\r\u001b[K     |██████████                      | 256 kB 5.2 MB/s eta 0:00:01\r\u001b[K     |██████████▌                     | 266 kB 5.2 MB/s eta 0:00:01\r\u001b[K     |██████████▉                     | 276 kB 5.2 MB/s eta 0:00:01\r\u001b[K     |███████████▎                    | 286 kB 5.2 MB/s eta 0:00:01\r\u001b[K     |███████████▊                    | 296 kB 5.2 MB/s eta 0:00:01\r\u001b[K     |████████████                    | 307 kB 5.2 MB/s eta 0:00:01\r\u001b[K     |████████████▌                   | 317 kB 5.2 MB/s eta 0:00:01\r\u001b[K     |█████████████                   | 327 kB 5.2 MB/s eta 0:00:01\r\u001b[K     |█████████████▎                  | 337 kB 5.2 MB/s eta 0:00:01\r\u001b[K     |█████████████▊                  | 348 kB 5.2 MB/s eta 0:00:01\r\u001b[K     |██████████████▏                 | 358 kB 5.2 MB/s eta 0:00:01\r\u001b[K     |██████████████▌                 | 368 kB 5.2 MB/s eta 0:00:01\r\u001b[K     |███████████████                 | 378 kB 5.2 MB/s eta 0:00:01\r\u001b[K     |███████████████▎                | 389 kB 5.2 MB/s eta 0:00:01\r\u001b[K     |███████████████▊                | 399 kB 5.2 MB/s eta 0:00:01\r\u001b[K     |████████████████▏               | 409 kB 5.2 MB/s eta 0:00:01\r\u001b[K     |████████████████▌               | 419 kB 5.2 MB/s eta 0:00:01\r\u001b[K     |█████████████████               | 430 kB 5.2 MB/s eta 0:00:01\r\u001b[K     |█████████████████▍              | 440 kB 5.2 MB/s eta 0:00:01\r\u001b[K     |█████████████████▊              | 450 kB 5.2 MB/s eta 0:00:01\r\u001b[K     |██████████████████▏             | 460 kB 5.2 MB/s eta 0:00:01\r\u001b[K     |██████████████████▌             | 471 kB 5.2 MB/s eta 0:00:01\r\u001b[K     |███████████████████             | 481 kB 5.2 MB/s eta 0:00:01\r\u001b[K     |███████████████████▍            | 491 kB 5.2 MB/s eta 0:00:01\r\u001b[K     |███████████████████▊            | 501 kB 5.2 MB/s eta 0:00:01\r\u001b[K     |████████████████████▏           | 512 kB 5.2 MB/s eta 0:00:01\r\u001b[K     |████████████████████▋           | 522 kB 5.2 MB/s eta 0:00:01\r\u001b[K     |█████████████████████           | 532 kB 5.2 MB/s eta 0:00:01\r\u001b[K     |█████████████████████▍          | 542 kB 5.2 MB/s eta 0:00:01\r\u001b[K     |█████████████████████▊          | 552 kB 5.2 MB/s eta 0:00:01\r\u001b[K     |██████████████████████▏         | 563 kB 5.2 MB/s eta 0:00:01\r\u001b[K     |██████████████████████▋         | 573 kB 5.2 MB/s eta 0:00:01\r\u001b[K     |███████████████████████         | 583 kB 5.2 MB/s eta 0:00:01\r\u001b[K     |███████████████████████▍        | 593 kB 5.2 MB/s eta 0:00:01\r\u001b[K     |███████████████████████▉        | 604 kB 5.2 MB/s eta 0:00:01\r\u001b[K     |████████████████████████▏       | 614 kB 5.2 MB/s eta 0:00:01\r\u001b[K     |████████████████████████▋       | 624 kB 5.2 MB/s eta 0:00:01\r\u001b[K     |█████████████████████████       | 634 kB 5.2 MB/s eta 0:00:01\r\u001b[K     |█████████████████████████▍      | 645 kB 5.2 MB/s eta 0:00:01\r\u001b[K     |█████████████████████████▉      | 655 kB 5.2 MB/s eta 0:00:01\r\u001b[K     |██████████████████████████▏     | 665 kB 5.2 MB/s eta 0:00:01\r\u001b[K     |██████████████████████████▋     | 675 kB 5.2 MB/s eta 0:00:01\r\u001b[K     |███████████████████████████     | 686 kB 5.2 MB/s eta 0:00:01\r\u001b[K     |███████████████████████████▍    | 696 kB 5.2 MB/s eta 0:00:01\r\u001b[K     |███████████████████████████▉    | 706 kB 5.2 MB/s eta 0:00:01\r\u001b[K     |████████████████████████████▎   | 716 kB 5.2 MB/s eta 0:00:01\r\u001b[K     |████████████████████████████▋   | 727 kB 5.2 MB/s eta 0:00:01\r\u001b[K     |█████████████████████████████   | 737 kB 5.2 MB/s eta 0:00:01\r\u001b[K     |█████████████████████████████▍  | 747 kB 5.2 MB/s eta 0:00:01\r\u001b[K     |█████████████████████████████▉  | 757 kB 5.2 MB/s eta 0:00:01\r\u001b[K     |██████████████████████████████▎ | 768 kB 5.2 MB/s eta 0:00:01\r\u001b[K     |██████████████████████████████▋ | 778 kB 5.2 MB/s eta 0:00:01\r\u001b[K     |███████████████████████████████ | 788 kB 5.2 MB/s eta 0:00:01\r\u001b[K     |███████████████████████████████▌| 798 kB 5.2 MB/s eta 0:00:01\r\u001b[K     |███████████████████████████████▉| 808 kB 5.2 MB/s eta 0:00:01\r\u001b[K     |████████████████████████████████| 812 kB 5.2 MB/s \n",
            "\u001b[?25hRequirement already satisfied: six in /usr/local/lib/python3.7/dist-packages (from imagehash) (1.15.0)\n",
            "Requirement already satisfied: numpy in /usr/local/lib/python3.7/dist-packages (from imagehash) (1.19.5)\n",
            "Requirement already satisfied: scipy in /usr/local/lib/python3.7/dist-packages (from imagehash) (1.4.1)\n",
            "Requirement already satisfied: pillow in /usr/local/lib/python3.7/dist-packages (from imagehash) (7.1.2)\n",
            "Requirement already satisfied: PyWavelets in /usr/local/lib/python3.7/dist-packages (from imagehash) (1.1.1)\n",
            "Building wheels for collected packages: imagehash\n",
            "  Building wheel for imagehash (setup.py) ... \u001b[?25l\u001b[?25hdone\n",
            "  Created wheel for imagehash: filename=ImageHash-4.2.1-py2.py3-none-any.whl size=295207 sha256=a6bf09d6418d64b0b7b3a62efe81b9990f3e8b914fa414a047e13eea9bec840d\n",
            "  Stored in directory: /root/.cache/pip/wheels/4c/d5/59/5e3e297533ddb09407769762985d134135064c6831e29a914e\n",
            "Successfully built imagehash\n",
            "Installing collected packages: imagehash\n",
            "Successfully installed imagehash-4.2.1\n"
          ]
        }
      ]
    },
    {
      "cell_type": "code",
      "metadata": {
        "id": "xbA26W4QugyZ"
      },
      "source": [
        ""
      ],
      "execution_count": null,
      "outputs": []
    },
    {
      "cell_type": "code",
      "metadata": {
        "id": "Ym8lR1rDQysl"
      },
      "source": [
        "\n",
        "#Librerias \n",
        "import numpy as np\n",
        "import pandas as pd\n",
        "import cv2  \n",
        "from google.colab.patches import cv2_imshow # for image display\n",
        "from skimage import io\n",
        "from PIL import Image \n",
        "import matplotlib.pylab as plt\n",
        "import imagehash"
      ],
      "execution_count": null,
      "outputs": []
    },
    {
      "cell_type": "code",
      "metadata": {
        "id": "qCj9MmWhQoQy"
      },
      "source": [
        "images = ['https://i.ebayimg.com/images/g/vOUAAOSwVHle64yO/s-l1600.jpg',\n",
        "         'https://i.ebayimg.com/images/g/jN8AAOSwxMle64yY/s-l1600.jpg',\n",
        "         'https://i.ebayimg.com/images/g/3p8AAOSwk2Je64ym/s-l1600.jpg',\n",
        "         'https://i.ebayimg.com/images/g/qqYAAOSweNle64zN/s-l1600.jpg',\n",
        "         'https://i.ebayimg.com/images/g/cnkAAOSw~n9e64za/s-l1600.jpg',\n",
        "         'https://i.ebayimg.com/images/g/3p8AAOSwk2Je64ym/s-l64.jpg',\n",
        "         'https://i.ebayimg.com/images/g/qqYAAOSweNle64zN/s-l64.jpg']"
      ],
      "execution_count": null,
      "outputs": []
    },
    {
      "cell_type": "code",
      "metadata": {
        "id": "NCjk5J_-Qvbc"
      },
      "source": [
        "df = pd.DataFrame(columns=['image','ahash','phash','dhash','whash','colorhash'])\n",
        "\n",
        "for url in images:\n",
        "    file =  Image.fromarray(io.imread(url))\n",
        "    data = {\n",
        "        'image': url,\n",
        "        'ahash': imagehash.average_hash(file),\n",
        "        'phash': imagehash.phash(file),\n",
        "        'dhash': imagehash.dhash(file),\n",
        "        'whash': imagehash.whash(file),\n",
        "        'colorhash': imagehash.colorhash(file),   \n",
        "    }\n",
        "    \n",
        "    df = df.append(data, ignore_index=True)"
      ],
      "execution_count": null,
      "outputs": []
    },
    {
      "cell_type": "code",
      "metadata": {
        "id": "LpeUKGX4SH9F",
        "colab": {
          "base_uri": "https://localhost:8080/",
          "height": 264
        },
        "outputId": "30e880e1-0216-44aa-f142-b28a3b953c48"
      },
      "source": [
        "df.head(10)"
      ],
      "execution_count": null,
      "outputs": [
        {
          "output_type": "execute_result",
          "data": {
            "text/html": [
              "<div>\n",
              "<style scoped>\n",
              "    .dataframe tbody tr th:only-of-type {\n",
              "        vertical-align: middle;\n",
              "    }\n",
              "\n",
              "    .dataframe tbody tr th {\n",
              "        vertical-align: top;\n",
              "    }\n",
              "\n",
              "    .dataframe thead th {\n",
              "        text-align: right;\n",
              "    }\n",
              "</style>\n",
              "<table border=\"1\" class=\"dataframe\">\n",
              "  <thead>\n",
              "    <tr style=\"text-align: right;\">\n",
              "      <th></th>\n",
              "      <th>image</th>\n",
              "      <th>ahash</th>\n",
              "      <th>phash</th>\n",
              "      <th>dhash</th>\n",
              "      <th>whash</th>\n",
              "      <th>colorhash</th>\n",
              "    </tr>\n",
              "  </thead>\n",
              "  <tbody>\n",
              "    <tr>\n",
              "      <th>0</th>\n",
              "      <td>https://i.ebayimg.com/images/g/vOUAAOSwVHle64y...</td>\n",
              "      <td>333e9f8981c3c3e3</td>\n",
              "      <td>ac9ec7216b61b076</td>\n",
              "      <td>e7643c330f0f0f0f</td>\n",
              "      <td>033e9f9981c3c3e3</td>\n",
              "      <td>072c0040000</td>\n",
              "    </tr>\n",
              "    <tr>\n",
              "      <th>1</th>\n",
              "      <td>https://i.ebayimg.com/images/g/jN8AAOSwxMle64y...</td>\n",
              "      <td>0f0783ce0f8b8b05</td>\n",
              "      <td>ba052a9d13f87f21</td>\n",
              "      <td>fcef273c6a3b3359</td>\n",
              "      <td>0f17039f0f8f8f05</td>\n",
              "      <td>0e400008002</td>\n",
              "    </tr>\n",
              "    <tr>\n",
              "      <th>2</th>\n",
              "      <td>https://i.ebayimg.com/images/g/3p8AAOSwk2Je64y...</td>\n",
              "      <td>fe86c38181c1c3c7</td>\n",
              "      <td>f4959690dbc385a5</td>\n",
              "      <td>f436060337978f0e</td>\n",
              "      <td>fe86c381c1c1c3e7</td>\n",
              "      <td>06280040001</td>\n",
              "    </tr>\n",
              "    <tr>\n",
              "      <th>3</th>\n",
              "      <td>https://i.ebayimg.com/images/g/qqYAAOSweNle64z...</td>\n",
              "      <td>2700017303030f9f</td>\n",
              "      <td>af41943dc186ad3d</td>\n",
              "      <td>d6cac3c3c36f7f3f</td>\n",
              "      <td>7702037323838fbf</td>\n",
              "      <td>06080009000</td>\n",
              "    </tr>\n",
              "    <tr>\n",
              "      <th>4</th>\n",
              "      <td>https://i.ebayimg.com/images/g/cnkAAOSw~n9e64z...</td>\n",
              "      <td>78053f3f839383c3</td>\n",
              "      <td>add3406cd3cdcd21</td>\n",
              "      <td>c18d73721f27379e</td>\n",
              "      <td>380d3f3f839383c3</td>\n",
              "      <td>0e2c0001000</td>\n",
              "    </tr>\n",
              "    <tr>\n",
              "      <th>5</th>\n",
              "      <td>https://i.ebayimg.com/images/g/3p8AAOSwk2Je64y...</td>\n",
              "      <td>fe86c38181c1c3c7</td>\n",
              "      <td>f4959690dbc385a5</td>\n",
              "      <td>f436060337978f0e</td>\n",
              "      <td>fe86c381c1c1c3e7</td>\n",
              "      <td>06280080000</td>\n",
              "    </tr>\n",
              "    <tr>\n",
              "      <th>6</th>\n",
              "      <td>https://i.ebayimg.com/images/g/qqYAAOSweNle64z...</td>\n",
              "      <td>2700017303030f9f</td>\n",
              "      <td>af41943dc086ad7d</td>\n",
              "      <td>d6dac3c3d36f7f3f</td>\n",
              "      <td>3706037323838fbf</td>\n",
              "      <td>06280000000</td>\n",
              "    </tr>\n",
              "  </tbody>\n",
              "</table>\n",
              "</div>"
            ],
            "text/plain": [
              "                                               image  ...    colorhash\n",
              "0  https://i.ebayimg.com/images/g/vOUAAOSwVHle64y...  ...  072c0040000\n",
              "1  https://i.ebayimg.com/images/g/jN8AAOSwxMle64y...  ...  0e400008002\n",
              "2  https://i.ebayimg.com/images/g/3p8AAOSwk2Je64y...  ...  06280040001\n",
              "3  https://i.ebayimg.com/images/g/qqYAAOSweNle64z...  ...  06080009000\n",
              "4  https://i.ebayimg.com/images/g/cnkAAOSw~n9e64z...  ...  0e2c0001000\n",
              "5  https://i.ebayimg.com/images/g/3p8AAOSwk2Je64y...  ...  06280080000\n",
              "6  https://i.ebayimg.com/images/g/qqYAAOSweNle64z...  ...  06280000000\n",
              "\n",
              "[7 rows x 6 columns]"
            ]
          },
          "metadata": {},
          "execution_count": 5
        }
      ]
    },
    {
      "cell_type": "code",
      "metadata": {
        "id": "uT7M8AVvdDwx",
        "colab": {
          "base_uri": "https://localhost:8080/"
        },
        "outputId": "af4aa8b2-c8f3-4859-9e33-29bf3e48ad74"
      },
      "source": [
        "pip install  distance"
      ],
      "execution_count": null,
      "outputs": [
        {
          "output_type": "stream",
          "name": "stdout",
          "text": [
            "Collecting distance\n",
            "  Downloading Distance-0.1.3.tar.gz (180 kB)\n",
            "\u001b[?25l\r\u001b[K     |█▉                              | 10 kB 23.9 MB/s eta 0:00:01\r\u001b[K     |███▋                            | 20 kB 29.2 MB/s eta 0:00:01\r\u001b[K     |█████▌                          | 30 kB 12.3 MB/s eta 0:00:01\r\u001b[K     |███████▎                        | 40 kB 9.5 MB/s eta 0:00:01\r\u001b[K     |█████████                       | 51 kB 5.2 MB/s eta 0:00:01\r\u001b[K     |███████████                     | 61 kB 5.7 MB/s eta 0:00:01\r\u001b[K     |████████████▊                   | 71 kB 5.5 MB/s eta 0:00:01\r\u001b[K     |██████████████▌                 | 81 kB 6.1 MB/s eta 0:00:01\r\u001b[K     |████████████████▍               | 92 kB 4.7 MB/s eta 0:00:01\r\u001b[K     |██████████████████▏             | 102 kB 5.0 MB/s eta 0:00:01\r\u001b[K     |████████████████████            | 112 kB 5.0 MB/s eta 0:00:01\r\u001b[K     |█████████████████████▉          | 122 kB 5.0 MB/s eta 0:00:01\r\u001b[K     |███████████████████████▋        | 133 kB 5.0 MB/s eta 0:00:01\r\u001b[K     |█████████████████████████▌      | 143 kB 5.0 MB/s eta 0:00:01\r\u001b[K     |███████████████████████████▎    | 153 kB 5.0 MB/s eta 0:00:01\r\u001b[K     |█████████████████████████████   | 163 kB 5.0 MB/s eta 0:00:01\r\u001b[K     |███████████████████████████████ | 174 kB 5.0 MB/s eta 0:00:01\r\u001b[K     |████████████████████████████████| 180 kB 5.0 MB/s \n",
            "\u001b[?25hBuilding wheels for collected packages: distance\n",
            "  Building wheel for distance (setup.py) ... \u001b[?25l\u001b[?25hdone\n",
            "  Created wheel for distance: filename=Distance-0.1.3-py3-none-any.whl size=16275 sha256=78bf31dbbef47ee0a8463a484d9d9db15dae558ef7fe96deb8cfb10f2dfb2dbe\n",
            "  Stored in directory: /root/.cache/pip/wheels/b2/10/1b/96fca621a1be378e2fe104cfb0d160bb6cdf3d04a3d35266cc\n",
            "Successfully built distance\n",
            "Installing collected packages: distance\n",
            "Successfully installed distance-0.1.3\n"
          ]
        }
      ]
    },
    {
      "cell_type": "code",
      "metadata": {
        "id": "7MkIolx1WLwH"
      },
      "source": [
        "import distance\n",
        "\n",
        "def find_similar_images(df, ahash_column, image_url):\n",
        "    \"\"\"Compare an unseen image to previously seen images and return\n",
        "    a list of images ranked by their similarity according to the \n",
        "    Hamming distance of their average hash or ahash.\n",
        "    \n",
        "    :param df: Pandas dataframe containing image and ahash columns\n",
        "    :param ahash_column: Name of ahash column\n",
        "    :param image_url: URL of the unseen image to hash and compare\n",
        "   \n",
        "    :return\n",
        "        Pandas dataframe containing the most similar images\n",
        "    \"\"\"\n",
        "    \n",
        "    file =  Image.fromarray(io.imread(url))\n",
        "    ahash = str(imagehash.average_hash(file))\n",
        "        \n",
        "    df['hamming_distance'] = df.apply(\\\n",
        "    lambda x: distance.hamming(str(x[ahash_column]), ahash), axis=1)\n",
        "\n",
        "    df = df[['image','ahash','hamming_distance']]\\\n",
        "    .sort_values(by='hamming_distance', ascending=True)\n",
        "    \n",
        "    return df"
      ],
      "execution_count": null,
      "outputs": []
    },
    {
      "cell_type": "code",
      "metadata": {
        "id": "8Ma8eXXUWMiv",
        "colab": {
          "base_uri": "https://localhost:8080/",
          "height": 202
        },
        "outputId": "93147e9e-167b-4fb2-c7eb-de3b863e6d7a"
      },
      "source": [
        "df = find_similar_images(df, 'ahash', 'https://i.ebayimg.com/images/g/3p8AAOSwk2Je64ym/s-l1600.jpg')\n",
        "df.head()"
      ],
      "execution_count": null,
      "outputs": [
        {
          "output_type": "execute_result",
          "data": {
            "text/html": [
              "<div>\n",
              "<style scoped>\n",
              "    .dataframe tbody tr th:only-of-type {\n",
              "        vertical-align: middle;\n",
              "    }\n",
              "\n",
              "    .dataframe tbody tr th {\n",
              "        vertical-align: top;\n",
              "    }\n",
              "\n",
              "    .dataframe thead th {\n",
              "        text-align: right;\n",
              "    }\n",
              "</style>\n",
              "<table border=\"1\" class=\"dataframe\">\n",
              "  <thead>\n",
              "    <tr style=\"text-align: right;\">\n",
              "      <th></th>\n",
              "      <th>image</th>\n",
              "      <th>ahash</th>\n",
              "      <th>hamming_distance</th>\n",
              "    </tr>\n",
              "  </thead>\n",
              "  <tbody>\n",
              "    <tr>\n",
              "      <th>3</th>\n",
              "      <td>https://i.ebayimg.com/images/g/qqYAAOSweNle64z...</td>\n",
              "      <td>2700017303030f9f</td>\n",
              "      <td>0</td>\n",
              "    </tr>\n",
              "    <tr>\n",
              "      <th>6</th>\n",
              "      <td>https://i.ebayimg.com/images/g/qqYAAOSweNle64z...</td>\n",
              "      <td>2700017303030f9f</td>\n",
              "      <td>0</td>\n",
              "    </tr>\n",
              "    <tr>\n",
              "      <th>4</th>\n",
              "      <td>https://i.ebayimg.com/images/g/cnkAAOSw~n9e64z...</td>\n",
              "      <td>78053f3f839383c3</td>\n",
              "      <td>13</td>\n",
              "    </tr>\n",
              "    <tr>\n",
              "      <th>1</th>\n",
              "      <td>https://i.ebayimg.com/images/g/jN8AAOSwxMle64y...</td>\n",
              "      <td>0f0783ce0f8b8b05</td>\n",
              "      <td>14</td>\n",
              "    </tr>\n",
              "    <tr>\n",
              "      <th>0</th>\n",
              "      <td>https://i.ebayimg.com/images/g/vOUAAOSwVHle64y...</td>\n",
              "      <td>333e9f8981c3c3e3</td>\n",
              "      <td>15</td>\n",
              "    </tr>\n",
              "  </tbody>\n",
              "</table>\n",
              "</div>"
            ],
            "text/plain": [
              "                                               image  ... hamming_distance\n",
              "3  https://i.ebayimg.com/images/g/qqYAAOSweNle64z...  ...                0\n",
              "6  https://i.ebayimg.com/images/g/qqYAAOSweNle64z...  ...                0\n",
              "4  https://i.ebayimg.com/images/g/cnkAAOSw~n9e64z...  ...               13\n",
              "1  https://i.ebayimg.com/images/g/jN8AAOSwxMle64y...  ...               14\n",
              "0  https://i.ebayimg.com/images/g/vOUAAOSwVHle64y...  ...               15\n",
              "\n",
              "[5 rows x 3 columns]"
            ]
          },
          "metadata": {},
          "execution_count": 8
        }
      ]
    },
    {
      "cell_type": "code",
      "metadata": {
        "id": "Zr7_LDMsdf4d",
        "colab": {
          "base_uri": "https://localhost:8080/",
          "height": 1552
        },
        "outputId": "9d118913-7ecf-4591-e6a3-a5fd0e073b06"
      },
      "source": [
        "# Ejercicio muestre la imagen m'as similar de un dataset\n",
        "img =  io.imread('https://i.ebayimg.com/images/g/3p8AAOSwk2Je64ym/s-l1600.jpg')\n",
        "cv2_imshow(img)\n",
        "img2 = io.imread(df['image'][0])\n",
        "cv2_imshow(img2)"
      ],
      "execution_count": null,
      "outputs": []
    }
  ]
}